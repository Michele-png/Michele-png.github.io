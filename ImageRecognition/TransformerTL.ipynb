{
 "cells": [
  {
   "cell_type": "markdown",
   "id": "bc5fd321-21b8-47fb-82d8-9c38812c8e4c",
   "metadata": {},
   "source": [
    "## Data Importing and Preprocessing\n",
    "As first step, data is imported, in line with the typical importing procedure of this project. Then, each imported image is stored as a PIL imaga, as this is the format required to feed them into the model. Next, these images are filtered to leave out the categories Scincidae and Anguidae. The remaining PIL images are split into train, validation and test sets, using the same division percentages and random seeds as in the data preparation to the other models, so to ensure equality of these sets. Eventually, each of these sets and its corresponding label array are merged in a Hugging Faces dictionary and these three dictionaries are then lached into a single datasetDictionary object. "
   ]
  },
  {
   "cell_type": "code",
   "execution_count": 1,
   "id": "ea723c1f-5e12-40b7-a476-c6f8cacb71b7",
   "metadata": {},
   "outputs": [],
   "source": [
    "#import relevant libraries\n",
    "\n",
    "from sklearn.model_selection import train_test_split\n",
    "from collections import Counter\n",
    "import tensorflow as tf\n",
    "import numpy as np\n",
    "import json\n",
    "import sys\n",
    "import os"
   ]
  },
  {
   "cell_type": "code",
   "execution_count": 2,
   "id": "1f07c08a-88b2-47d7-8f01-426feba1d0bd",
   "metadata": {},
   "outputs": [],
   "source": [
    "f = open('train.json')\n",
    "annotations = json.load(f)\n",
    "image_files = set(os.listdir('NEW'))\n",
    "\n",
    "image_IDs = {}\n",
    "\n",
    "for i in annotations['images']: # i['id']\n",
    "    if i['file_name'].split('/')[-1] in image_files:\n",
    "        image_IDs[i['id']] = i['file_name'].split('/')[-1]\n",
    "        \n",
    "imgID_catIDs = {}\n",
    "\n",
    "for j in annotations['annotations']:\n",
    "    if j['image_id'] in image_IDs.keys():\n",
    "        imgID_catIDs[image_IDs[j['image_id']]] = j['category_id']\n",
    "        \n",
    "catIDs_names = {}\n",
    "\n",
    "for r in annotations['categories']:\n",
    "    if r['id'] in imgID_catIDs.values():\n",
    "        catIDs_names[r['id']] = r['family']\n",
    "        \n",
    "dict_labels = {}\n",
    "\n",
    "for val in image_IDs.values():\n",
    "    dict_labels[val] = catIDs_names[imgID_catIDs[val]]"
   ]
  },
  {
   "cell_type": "code",
   "execution_count": 3,
   "id": "0dd392a1-6ddf-431e-b9b7-0d99c3150915",
   "metadata": {},
   "outputs": [
    {
     "name": "stderr",
     "output_type": "stream",
     "text": [
      "19648it [00:12, 1527.53it/s]\n"
     ]
    }
   ],
   "source": [
    "from PIL import Image\n",
    "from tqdm import tqdm\n",
    "\n",
    "PIL_images = []\n",
    "file_names = []\n",
    "animals = []\n",
    "\n",
    "for i,k in tqdm(enumerate(dict_labels.keys())):\n",
    "    with Image.open('NEW/' + k) as img:\n",
    "        PIL_images.append(img)\n",
    "        file_names.append(k)\n",
    "        animals.append(dict_labels[k])"
   ]
  },
  {
   "cell_type": "code",
   "execution_count": 4,
   "id": "885b51e0-98ac-43d4-8adb-b15e37e028c6",
   "metadata": {},
   "outputs": [],
   "source": [
    "subset_images = [PIL_images[i] for i in range(len(PIL_images)) if animals[i] != 'Scincidae' and animals[i] != 'Anguidae']\n",
    "subset_animals = [animals[i] for i in range(len(animals)) if animals[i] != 'Scincidae' and animals[i] != 'Anguidae']\n",
    "\n",
    "# Generate Train set (70%), validation set (20%), test set (10%) split.\n",
    "X_train, X_other, y_train, y_other = train_test_split(subset_images, subset_animals, stratify = subset_animals, test_size = 0.3, random_state = 999)\n",
    "X_test, X_val, y_test, y_val = train_test_split(X_other, y_other, stratify = y_other, test_size = 0.3, random_state = 999)"
   ]
  },
  {
   "cell_type": "code",
   "execution_count": 5,
   "id": "70414cd9-add1-4ba3-b6a1-51d288e6f5e8",
   "metadata": {},
   "outputs": [
    {
     "data": {
      "application/vnd.jupyter.widget-view+json": {
       "model_id": "ac62fbb1d33b490395c2cc561832c011",
       "version_major": 2,
       "version_minor": 0
      },
      "text/plain": [
       "Casting to class labels:   0%|          | 0/13 [00:00<?, ?ba/s]"
      ]
     },
     "metadata": {},
     "output_type": "display_data"
    },
    {
     "data": {
      "application/vnd.jupyter.widget-view+json": {
       "model_id": "b4b9a544e4dc4d2699d5241b86f2725c",
       "version_major": 2,
       "version_minor": 0
      },
      "text/plain": [
       "Casting to class labels:   0%|          | 0/2 [00:00<?, ?ba/s]"
      ]
     },
     "metadata": {},
     "output_type": "display_data"
    },
    {
     "data": {
      "application/vnd.jupyter.widget-view+json": {
       "model_id": "70972e959f5a4201aa8c865efba414e8",
       "version_major": 2,
       "version_minor": 0
      },
      "text/plain": [
       "Casting to class labels:   0%|          | 0/4 [00:00<?, ?ba/s]"
      ]
     },
     "metadata": {},
     "output_type": "display_data"
    },
    {
     "data": {
      "text/plain": [
       "DatasetDict({\n",
       "    train: Dataset({\n",
       "        features: ['image', 'labels'],\n",
       "        num_rows: 12188\n",
       "    })\n",
       "    test: Dataset({\n",
       "        features: ['image', 'labels'],\n",
       "        num_rows: 3656\n",
       "    })\n",
       "    validation: Dataset({\n",
       "        features: ['image', 'labels'],\n",
       "        num_rows: 1568\n",
       "    })\n",
       "})"
      ]
     },
     "execution_count": 5,
     "metadata": {},
     "output_type": "execute_result"
    }
   ],
   "source": [
    "from datasets import Dataset, DatasetDict\n",
    "\n",
    "train = Dataset.from_dict({\"image\": X_train, 'labels': y_train}).class_encode_column('labels')\n",
    "validation = Dataset.from_dict({'image': X_val, 'labels':y_val}).class_encode_column('labels')\n",
    "test = Dataset.from_dict({'image':X_test, 'labels':y_test}).class_encode_column('labels')\n",
    "ds = DatasetDict({'train':train, 'test':test, 'validation':validation})\n",
    "ds"
   ]
  },
  {
   "cell_type": "markdown",
   "id": "d87d1a13",
   "metadata": {},
   "source": [
    "## Import, Parametrize and Run the Model\n",
    "The next step involves the creation of functions to be run into the ViT model, and the parametrization of the instantiation itself.\n",
    "\n",
    "- To start with, the ViT model is loaded with the weights pretrained on ImageNet. \n",
    "\n",
    "- Then, the function transform is created to be employed as input generator for the model. It takes a set of training PIL figures from the training hugging faces dictionary, and it outputs them in a single hugging faces dictionary with their pixel representations in a first arraylike entry and their respective labels in a second. This function is then appended to the DatasetDictionary itself so that it serves as generator sampling from it, and can be invoked upon using the DatasetDictionary. \n",
    "- The collate_fn function intakes a set of said elements and returns their pixel representation and their labels separately. This is used in the training phase of the model.\n",
    "- compute_metrices is invoked in the evaluation phase of training and indicates what metrices are to be calculated and in what manner. \n",
    "- In setting the model as ViT from pretrained data, the algorithm is given a way to convert numerical labels into strings and viceversa, respectively in the functions id2label, and label2id. \n",
    "- As a last step, the last hyperparameters of the training are set in the training argument function. Here, the training and evaluation approach are set to epochs to increase training speed. \n",
    "- Eventually, all these tunings are used in the training step to tailor the model. "
   ]
  },
  {
   "cell_type": "code",
   "execution_count": 6,
   "id": "f5319d9e-3c1c-4d56-8f02-af56f0b669e1",
   "metadata": {},
   "outputs": [],
   "source": [
    "from transformers import ViTFeatureExtractor\n",
    "\n",
    "model_name_or_path = 'google/vit-base-patch16-224-in21k'\n",
    "feature_extractor = ViTFeatureExtractor.from_pretrained(model_name_or_path)"
   ]
  },
  {
   "cell_type": "code",
   "execution_count": 7,
   "id": "35fedc44-0120-4753-b816-2b9a8a5486a2",
   "metadata": {},
   "outputs": [],
   "source": [
    "def transform(example_batch):\n",
    "    # Take a list of PIL images and turn them to pixel values\n",
    "    inputs = feature_extractor([x for x in example_batch['image']], return_tensors='pt')\n",
    "\n",
    "    # Don't forget to include the labels!\n",
    "    inputs['labels'] = example_batch['labels']\n",
    "    return inputs\n",
    "\n",
    "prepared_ds = ds.with_transform(transform)"
   ]
  },
  {
   "cell_type": "code",
   "execution_count": 8,
   "id": "83028bee-ac44-4556-8b42-412c822e973d",
   "metadata": {},
   "outputs": [],
   "source": [
    "import torch\n",
    "\n",
    "def collate_fn(batch):\n",
    "    return {\n",
    "        'pixel_values': torch.stack([x['pixel_values'] for x in batch]),\n",
    "        'labels': torch.tensor([x['labels'] for x in batch])\n",
    "    }"
   ]
  },
  {
   "cell_type": "code",
   "execution_count": 9,
   "id": "0a61c653-7768-43b4-a977-457b987e7964",
   "metadata": {},
   "outputs": [],
   "source": [
    "from evaluate import load\n",
    "\n",
    "metric = load(\"accuracy\")\n",
    "def compute_metrics(p):\n",
    "    return metric.compute(predictions=np.argmax(p.predictions, axis=1), references=p.label_ids)"
   ]
  },
  {
   "cell_type": "code",
   "execution_count": 10,
   "id": "76e4f47c-3387-4875-8fec-d940b70bc095",
   "metadata": {},
   "outputs": [
    {
     "name": "stderr",
     "output_type": "stream",
     "text": [
      "Some weights of the model checkpoint at google/vit-base-patch16-224-in21k were not used when initializing ViTForImageClassification: ['pooler.dense.bias', 'pooler.dense.weight']\n",
      "- This IS expected if you are initializing ViTForImageClassification from the checkpoint of a model trained on another task or with another architecture (e.g. initializing a BertForSequenceClassification model from a BertForPreTraining model).\n",
      "- This IS NOT expected if you are initializing ViTForImageClassification from the checkpoint of a model that you expect to be exactly identical (initializing a BertForSequenceClassification model from a BertForSequenceClassification model).\n",
      "Some weights of ViTForImageClassification were not initialized from the model checkpoint at google/vit-base-patch16-224-in21k and are newly initialized: ['classifier.bias', 'classifier.weight']\n",
      "You should probably TRAIN this model on a down-stream task to be able to use it for predictions and inference.\n"
     ]
    }
   ],
   "source": [
    "from transformers import ViTForImageClassification\n",
    "\n",
    "labels = ds['train'].features['labels'].names\n",
    "\n",
    "model = ViTForImageClassification.from_pretrained(\n",
    "    model_name_or_path,\n",
    "    num_labels=len(labels),\n",
    "    id2label={str(i): c for i, c in enumerate(labels)},\n",
    "    label2id={c: str(i) for i, c in enumerate(labels)}\n",
    ")"
   ]
  },
  {
   "cell_type": "code",
   "execution_count": 14,
   "id": "87fdec0e-bc4a-499d-93da-ec087baf5a84",
   "metadata": {},
   "outputs": [
    {
     "name": "stderr",
     "output_type": "stream",
     "text": [
      "PyTorch: setting up devices\n",
      "The default value for the training argument `--report_to` will change in v5 (from all installed integrations to none). In v5, you will need to use `--report_to all` to get the same behavior as now. You should start updating your code and make this info disappear :-).\n"
     ]
    }
   ],
   "source": [
    "from transformers import TrainingArguments\n",
    "\n",
    "training_args = TrainingArguments(    \n",
    "    f\"test-cifar-10\",\n",
    "    save_strategy=\"epoch\",\n",
    "    evaluation_strategy=\"epoch\",\n",
    "    per_device_train_batch_size=10,\n",
    "    per_device_eval_batch_size=4,\n",
    "    num_train_epochs=2,\n",
    "    weight_decay=0.01,\n",
    "    learning_rate=2e-05,\n",
    "    fp16=True,\n",
    "    load_best_model_at_end=True,\n",
    "    logging_dir='logs',\n",
    "    remove_unused_columns=False,\n",
    "    logging_steps = 1 # so that right after 0 steps it logs the loss\n",
    ")"
   ]
  },
  {
   "cell_type": "code",
   "execution_count": 16,
   "id": "36f7128f-5b36-4620-8949-6f9a671a9db0",
   "metadata": {},
   "outputs": [
    {
     "name": "stderr",
     "output_type": "stream",
     "text": [
      "Using cuda_amp half precision backend\n"
     ]
    }
   ],
   "source": [
    "from transformers import Trainer\n",
    "\n",
    "trainer = Trainer(\n",
    "    model=model,\n",
    "    args=training_args,\n",
    "    data_collator=collate_fn,\n",
    "    compute_metrics=compute_metrics,\n",
    "    train_dataset=prepared_ds[\"train\"],\n",
    "    eval_dataset=prepared_ds[\"validation\"],\n",
    "    tokenizer=feature_extractor,\n",
    ")"
   ]
  },
  {
   "cell_type": "code",
   "execution_count": 17,
   "id": "6080e69a-91f8-4338-9531-0997f120705d",
   "metadata": {},
   "outputs": [
    {
     "name": "stderr",
     "output_type": "stream",
     "text": [
      "***** Running training *****\n",
      "  Num examples = 12188\n",
      "  Num Epochs = 2\n",
      "  Instantaneous batch size per device = 10\n",
      "  Total train batch size (w. parallel, distributed & accumulation) = 10\n",
      "  Gradient Accumulation steps = 1\n",
      "  Total optimization steps = 2438\n",
      "  Number of trainable parameters = 85810191\n"
     ]
    },
    {
     "data": {
      "text/html": [
       "\n",
       "    <div>\n",
       "      \n",
       "      <progress value='2438' max='2438' style='width:300px; height:20px; vertical-align: middle;'></progress>\n",
       "      [2438/2438 1:05:37, Epoch 2/2]\n",
       "    </div>\n",
       "    <table border=\"1\" class=\"dataframe\">\n",
       "  <thead>\n",
       " <tr style=\"text-align: left;\">\n",
       "      <th>Epoch</th>\n",
       "      <th>Training Loss</th>\n",
       "      <th>Validation Loss</th>\n",
       "      <th>Accuracy</th>\n",
       "    </tr>\n",
       "  </thead>\n",
       "  <tbody>\n",
       "    <tr>\n",
       "      <td>1</td>\n",
       "      <td>0.711800</td>\n",
       "      <td>0.808552</td>\n",
       "      <td>0.859056</td>\n",
       "    </tr>\n",
       "    <tr>\n",
       "      <td>2</td>\n",
       "      <td>0.283200</td>\n",
       "      <td>0.611441</td>\n",
       "      <td>0.863520</td>\n",
       "    </tr>\n",
       "  </tbody>\n",
       "</table><p>"
      ],
      "text/plain": [
       "<IPython.core.display.HTML object>"
      ]
     },
     "metadata": {},
     "output_type": "display_data"
    },
    {
     "name": "stderr",
     "output_type": "stream",
     "text": [
      "***** Running Evaluation *****\n",
      "  Num examples = 1568\n",
      "  Batch size = 4\n",
      "Saving model checkpoint to test-cifar-10/checkpoint-1219\n",
      "Configuration saved in test-cifar-10/checkpoint-1219/config.json\n",
      "Model weights saved in test-cifar-10/checkpoint-1219/pytorch_model.bin\n",
      "Feature extractor saved in test-cifar-10/checkpoint-1219/preprocessor_config.json\n",
      "/anaconda/envs/py38_default/lib/python3.8/site-packages/transformers/trainer.py:1794: FutureWarning: Non-finite norm encountered in torch.nn.utils.clip_grad_norm_; continuing anyway. Note that the default behavior will change in a future release to error out if a non-finite total norm is encountered. At that point, setting error_if_nonfinite=false will be required to retain the old behavior.\n",
      "  nn.utils.clip_grad_norm_(\n",
      "***** Running Evaluation *****\n",
      "  Num examples = 1568\n",
      "  Batch size = 4\n",
      "Saving model checkpoint to test-cifar-10/checkpoint-2438\n",
      "Configuration saved in test-cifar-10/checkpoint-2438/config.json\n",
      "Model weights saved in test-cifar-10/checkpoint-2438/pytorch_model.bin\n",
      "Feature extractor saved in test-cifar-10/checkpoint-2438/preprocessor_config.json\n",
      "\n",
      "\n",
      "Training completed. Do not forget to share your model on huggingface.co/models =)\n",
      "\n",
      "\n",
      "Loading best model from test-cifar-10/checkpoint-2438 (score: 0.6114410161972046).\n",
      "Saving model checkpoint to test-cifar-10\n",
      "Configuration saved in test-cifar-10/config.json\n",
      "Model weights saved in test-cifar-10/pytorch_model.bin\n",
      "Feature extractor saved in test-cifar-10/preprocessor_config.json\n"
     ]
    },
    {
     "name": "stdout",
     "output_type": "stream",
     "text": [
      "***** train metrics *****\n",
      "  epoch                    =          2.0\n",
      "  total_flos               = 1759421852GF\n",
      "  train_loss               =       0.9082\n",
      "  train_runtime            =   1:05:39.09\n",
      "  train_samples_per_second =        6.188\n",
      "  train_steps_per_second   =        0.619\n"
     ]
    }
   ],
   "source": [
    "train_results = trainer.train()\n",
    "trainer.save_model()\n",
    "trainer.log_metrics(\"train\", train_results.metrics)\n",
    "trainer.save_metrics(\"train\", train_results.metrics)\n",
    "trainer.save_state()"
   ]
  },
  {
   "cell_type": "markdown",
   "id": "0a123480",
   "metadata": {},
   "source": [
    "## Model Evaluation\n",
    "After having trined the model on the training set, and iteratively evaluated in on the validation set, it is possible to assess its performance on unseen data, i.e. the test set. \n",
    "- This is performed in the command trainer.evaluate. \n",
    "- Next the model is saved, and the code to reload it is commented out.\n",
    "- DataLoader is another batch generator for the model, in this case it generates a batch of one image a time and one label, they are moved to the GPU, where the model is stored and the predicted label is evaluated and whether it is right is recorded. \n",
    "- This information is used to create the confusion matrix by means of a heat map. "
   ]
  },
  {
   "cell_type": "code",
   "execution_count": 18,
   "id": "eb0bd477-1b39-43db-a425-b2621d221bd8",
   "metadata": {},
   "outputs": [
    {
     "name": "stderr",
     "output_type": "stream",
     "text": [
      "***** Running Evaluation *****\n",
      "  Num examples = 1568\n",
      "  Batch size = 4\n"
     ]
    },
    {
     "data": {
      "text/html": [
       "\n",
       "    <div>\n",
       "      \n",
       "      <progress value='392' max='392' style='width:300px; height:20px; vertical-align: middle;'></progress>\n",
       "      [392/392 01:31]\n",
       "    </div>\n",
       "    "
      ],
      "text/plain": [
       "<IPython.core.display.HTML object>"
      ]
     },
     "metadata": {},
     "output_type": "display_data"
    },
    {
     "name": "stdout",
     "output_type": "stream",
     "text": [
      "***** eval metrics *****\n",
      "  epoch                   =        2.0\n",
      "  eval_accuracy           =     0.8635\n",
      "  eval_loss               =     0.6114\n",
      "  eval_runtime            = 0:01:31.36\n",
      "  eval_samples_per_second =     17.162\n",
      "  eval_steps_per_second   =      4.291\n"
     ]
    }
   ],
   "source": [
    "metrics = trainer.evaluate(prepared_ds['test'])\n",
    "trainer.log_metrics(\"eval\", metrics)\n",
    "trainer.save_metrics(\"eval\", metrics)"
   ]
  },
  {
   "cell_type": "code",
   "execution_count": 19,
   "id": "b2c7810f-867b-42fd-a09b-16f693a91a80",
   "metadata": {},
   "outputs": [
    {
     "name": "stderr",
     "output_type": "stream",
     "text": [
      "Saving model checkpoint to TransformerTL\n",
      "Configuration saved in TransformerTL/config.json\n",
      "Model weights saved in TransformerTL/pytorch_model.bin\n",
      "Feature extractor saved in TransformerTL/preprocessor_config.json\n"
     ]
    }
   ],
   "source": [
    "trainer.save_model('TransformerTL')"
   ]
  },
  {
   "cell_type": "code",
   "execution_count": null,
   "id": "11f67427-d5e1-4f31-b3e8-b0b7d7f2a78b",
   "metadata": {},
   "outputs": [],
   "source": [
    "# model = ViTForImageClassification.from_pretrained(\n",
    "#     'TransformerTL', \n",
    "#     local_files_only=True)\n",
    "# model.to('cuda')"
   ]
  },
  {
   "cell_type": "code",
   "execution_count": 20,
   "id": "9ff26bd1-d2e9-4123-bffe-e0ee8219113b",
   "metadata": {},
   "outputs": [
    {
     "name": "stderr",
     "output_type": "stream",
     "text": [
      "100%|██████████| 12188/12188 [10:19<00:00, 19.66it/s]\n"
     ]
    }
   ],
   "source": [
    "from torch.utils.data import DataLoader\n",
    "\n",
    "train_dataloader = DataLoader(prepared_ds['train'], collate_fn=collate_fn, batch_size=1)\n",
    "device = torch.device(\"cuda:0\" if torch.cuda.is_available() else \"cpu\")\n",
    "model.to(device)\n",
    "\n",
    "predicted_class_idx = []\n",
    "real_labels = []\n",
    "for data in tqdm(train_dataloader):\n",
    "    inputs, labels = data['pixel_values'], data['labels']\n",
    "    inputs, labels = inputs.to(device), labels.to(device)\n",
    "    logits = model(inputs).logits\n",
    "    predicted_class_idx.append(logits.argmax(-1).item())\n",
    "    real_labels.append(labels.item())"
   ]
  },
  {
   "cell_type": "code",
   "execution_count": 23,
   "id": "7000c12d-9eca-42ae-81cc-756846b22edd",
   "metadata": {},
   "outputs": [
    {
     "data": {
      "image/png": "[encoded data removed]",
      "text/plain": [
       "<Figure size 864x864 with 2 Axes>"
      ]
     },
     "metadata": {
      "needs_background": "light"
     },
     "output_type": "display_data"
    }
   ],
   "source": [
    "import matplotlib.pyplot as plt\n",
    "import seaborn as sns\n",
    "import pandas as pd\n",
    "from sklearn.metrics import confusion_matrix\n",
    "\n",
    "plt.figure(figsize = (12, 12))\n",
    "cm_VIT = pd.DataFrame(confusion_matrix(real_labels, predicted_class_idx))\n",
    "heatmap = sns.heatmap(cm_VIT/cm_VIT.sum(axis=1), vmin=0, vmax=1, annot=True)\n",
    "plt.savefig(f'Transformer Confusion Matrix.png')\n",
    "plt.show()"
   ]
  },
  {
   "cell_type": "code",
   "execution_count": 22,
   "id": "7f56aa86-94ca-4032-bda7-8a1b0f0ddaad",
   "metadata": {},
   "outputs": [
    {
     "data": {
      "text/plain": [
       "<Figure size 432x288 with 0 Axes>"
      ]
     },
     "metadata": {},
     "output_type": "display_data"
    }
   ],
   "source": [
    "plt.savefig(f'Transformer Confusion Matrix.png')"
   ]
  }
 ],
 "metadata": {
  "kernelspec": {
   "display_name": "Python 3",
   "language": "python",
   "name": "python3"
  },
  "language_info": {
   "codemirror_mode": {
    "name": "ipython",
    "version": 3
   },
   "file_extension": ".py",
   "mimetype": "text/x-python",
   "name": "python",
   "nbconvert_exporter": "python",
   "pygments_lexer": "ipython3",
   "version": "3.8.8"
  }
 },
 "nbformat": 4,
 "nbformat_minor": 5
}
